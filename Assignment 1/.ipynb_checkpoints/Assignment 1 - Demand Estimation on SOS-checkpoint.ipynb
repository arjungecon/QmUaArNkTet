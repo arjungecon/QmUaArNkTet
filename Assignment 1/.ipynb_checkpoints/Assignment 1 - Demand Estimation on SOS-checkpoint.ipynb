{
 "cells": [
  {
   "cell_type": "markdown",
   "id": "communist-moral",
   "metadata": {
    "kernel": "SoS"
   },
   "source": [
    "# Demand Estimation in Python and R\n",
    "\n",
    "## Advanced Quantitative Marketing - Arjun Gopinath\n",
    "\n",
    "In this Jupyter notebook, I display all relevant results from the demand estimation assignment. The model follows Guadagni and Little (1983)."
   ]
  },
  {
   "cell_type": "code",
   "execution_count": 3,
   "id": "knowing-poland",
   "metadata": {
    "kernel": "Python3"
   },
   "outputs": [],
   "source": [
    "# Standard Python imports\n",
    "\n",
    "import numpy as np\n",
    "import pandas as pd\n",
    "import matplotlib.pyplot as plt\n",
    "import matplotlib\n",
    "\n",
    "# Imports for displaying tables in Jupyter notebooks\n",
    "\n",
    "from IPython.display import display, HTML\n",
    "import tabulate\n",
    "\n",
    "# Frequently used commands\n",
    "inv, ax = np.linalg.inv, np.newaxis\n",
    "\n",
    "matplotlib.rcParams['text.usetex'] = True"
   ]
  },
  {
   "cell_type": "code",
   "execution_count": 4,
   "id": "fluid-rings",
   "metadata": {
    "kernel": "R"
   },
   "outputs": [],
   "source": [
    "# Setting up bayesm package from R.\n",
    "\n",
    "library(data.table)\n",
    "library(tidyr)\n",
    "library(bayesm)\n",
    "library(parallel)\n",
    "library(ggplot2)\n",
    "library(MCMCpack)"
   ]
  },
  {
   "cell_type": "markdown",
   "id": "functioning-finger",
   "metadata": {
    "kernel": "R"
   },
   "source": [
    "## Part 1 - Microeconometrics of Consumer Demand\n",
    "\n",
    "The retained households in the datasets have purchased peanut butter in one of the top two chains during the sample period (1993-1995). The eight top-selling peanut butter products are included in the sample. There is also a ninth “no-purchase” option. Each trip has nine observations associated with it containing the price of each alternative, along with the choice made.\n"
   ]
  },
  {
   "cell_type": "code",
   "execution_count": 5,
   "id": "banned-uniform",
   "metadata": {
    "kernel": "Python3"
   },
   "outputs": [],
   "source": [
    "%put data --to R\n",
    "\n",
    "# Importing the dataset into Pandas.\n",
    "\n",
    "data = pd.read_csv('Raw/pbout.txt', sep=\" \")\n",
    "data.reset_index(inplace=True) \n",
    "data.dropna(axis='columns', inplace=True)\n",
    "data.columns = ['PanelID', 'Date', 'Choice', 'Price',\n",
    "                'Feature', 'Display', 'Loyalty']\n",
    "data = data.astype({'PanelID': 'int64', 'Date': 'int64',\n",
    "                  'Choice': 'int8', 'Feature': 'int8',\n",
    "                  'Display': 'int8', 'Loyalty': 'int8'})\n",
    "\n",
    "# Creating product number column.\n",
    "\n",
    "data['Product'] = list(np.arange(9) + 1) * int(len(data)/9)\n",
    "\n",
    "# Generating summary statistics by product number.\n",
    "\n",
    "sum_stat1 = data.groupby(['Product'])[['Loyalty', 'Display', 'Feature']].agg(['mean','std'])\n",
    "sum_stat2 = data.groupby(['Product'])[['Price']].agg(['mean','std', 'median', 'max', 'min'])\n",
    "\n",
    "sum_stat = pd.concat([sum_stat2, sum_stat1], axis=1)"
   ]
  },
  {
   "cell_type": "code",
   "execution_count": 6,
   "id": "sharing-district",
   "metadata": {
    "kernel": "Python3"
   },
   "outputs": [],
   "source": [
    "%put data --to R\n",
    "\n",
    "# Reshape dataframe from long to wide, set product-specific columns for price, feature, loyalty, display.\n",
    "\n",
    "data = data.pivot_table(index=['PanelID', 'Date', 'Choice'], \n",
    "                        columns='Product',\n",
    "                        values=['Price', 'Feature', 'Loyalty', 'Display'])\n",
    "\n",
    "data.columns = [f'{i}_{j}' for i, j in data.columns]\n",
    "data = data.reset_index()"
   ]
  },
  {
   "cell_type": "markdown",
   "id": "molecular-devices",
   "metadata": {
    "kernel": "Python3"
   },
   "source": [
    "### Summary Statistics\n",
    "\n",
    "I have included a bar graph that captures the frequency of choices made by the consumers in the panel over time. The log-scale was necessary due to the sheer order of magnitude difference between the frequency of choosing a product alternative versus the outside option. It is clear that the product alternatives are chosen with relatively similar frequencies, with product 7 being the most popular throughout the time horizon, and product 8 being the least popular."
   ]
  },
  {
   "cell_type": "code",
   "execution_count": 6,
   "id": "healthy-quantum",
   "metadata": {
    "kernel": "Python3"
   },
   "outputs": [],
   "source": [
    "# Obtaining frequency data for product choices made by each consumer.\n",
    "\n",
    "choice_freq = pd.Series(data['Choice'].value_counts())\n",
    "choice_freq.sort_index(inplace=True)"
   ]
  },
  {
   "cell_type": "code",
   "execution_count": 7,
   "id": "optional-yahoo",
   "metadata": {
    "kernel": "Python3",
    "scrolled": false
   },
   "outputs": [
    {
     "data": {
      "image/png": "[encoded data removed]",
      "text/plain": [
       "<Figure size 750x750 with 1 Axes>"
      ]
     },
     "metadata": {
      "needs_background": "light"
     },
     "output_type": "display_data"
    }
   ],
   "source": [
    "# Generating frequency plot.\n",
    "\n",
    "fig1 = plt.figure(figsize=(5, 5), dpi=150);\n",
    "choice_freq.plot.bar(rot=0, log=True, \n",
    "                     xlabel='Choice', ylabel='Frequency', \n",
    "                     title='Summary of Consumer Choices');"
   ]
  },
  {
   "cell_type": "code",
   "execution_count": 8,
   "id": "amateur-anger",
   "metadata": {
    "kernel": "Python3",
    "scrolled": true
   },
   "outputs": [
    {
     "data": {
      "text/html": [
       "<table>\n",
       "<thead>\n",
       "<tr><th style=\"text-align: right;\">  Product</th><th style=\"text-align: right;\">  Price Mean</th><th style=\"text-align: right;\">  Price S.D.</th><th style=\"text-align: right;\">  Price Median</th><th style=\"text-align: right;\">  Price Max.</th><th style=\"text-align: right;\">  Price Min.</th><th style=\"text-align: right;\">  Loyalty Mean</th><th style=\"text-align: right;\">  Loyalty S.D.</th><th style=\"text-align: right;\">  Display Mean</th><th style=\"text-align: right;\">  Display S.D.</th><th style=\"text-align: right;\">  Feature Mean</th><th style=\"text-align: right;\">  Feature S.D.</th></tr>\n",
       "</thead>\n",
       "<tbody>\n",
       "<tr><td style=\"text-align: right;\">        1</td><td style=\"text-align: right;\">    0.135378</td><td style=\"text-align: right;\">  0.0111028 </td><td style=\"text-align: right;\">      0.143889</td><td style=\"text-align: right;\">    0.143889</td><td style=\"text-align: right;\">   0.107222 </td><td style=\"text-align: right;\">     0.0738791</td><td style=\"text-align: right;\">      0.261577</td><td style=\"text-align: right;\">    0         </td><td style=\"text-align: right;\">     0        </td><td style=\"text-align: right;\">     0.029319 </td><td style=\"text-align: right;\">      0.168701</td></tr>\n",
       "<tr><td style=\"text-align: right;\">        2</td><td style=\"text-align: right;\">    0.125268</td><td style=\"text-align: right;\">  0.0105207 </td><td style=\"text-align: right;\">      0.121111</td><td style=\"text-align: right;\">    0.147778</td><td style=\"text-align: right;\">   0.0994444</td><td style=\"text-align: right;\">     0.151426 </td><td style=\"text-align: right;\">      0.358467</td><td style=\"text-align: right;\">    0.0112189 </td><td style=\"text-align: right;\">     0.105325 </td><td style=\"text-align: right;\">     0.0281163</td><td style=\"text-align: right;\">      0.165307</td></tr>\n",
       "<tr><td style=\"text-align: right;\">        3</td><td style=\"text-align: right;\">    0.132444</td><td style=\"text-align: right;\">  0.0065401 </td><td style=\"text-align: right;\">      0.1325  </td><td style=\"text-align: right;\">    0.1425  </td><td style=\"text-align: right;\">   0.106786 </td><td style=\"text-align: right;\">     0.0764423</td><td style=\"text-align: right;\">      0.265707</td><td style=\"text-align: right;\">    0.0303048 </td><td style=\"text-align: right;\">     0.171426 </td><td style=\"text-align: right;\">     0.0404787</td><td style=\"text-align: right;\">      0.197081</td></tr>\n",
       "<tr><td style=\"text-align: right;\">        4</td><td style=\"text-align: right;\">    0.151742</td><td style=\"text-align: right;\">  0.0127405 </td><td style=\"text-align: right;\">      0.153125</td><td style=\"text-align: right;\">    0.178125</td><td style=\"text-align: right;\">   0.111875 </td><td style=\"text-align: right;\">     0.0858867</td><td style=\"text-align: right;\">      0.280199</td><td style=\"text-align: right;\">    0.00577704</td><td style=\"text-align: right;\">     0.0757877</td><td style=\"text-align: right;\">     0.0546946</td><td style=\"text-align: right;\">      0.227385</td></tr>\n",
       "<tr><td style=\"text-align: right;\">        5</td><td style=\"text-align: right;\">    0.130442</td><td style=\"text-align: right;\">  0.00914118</td><td style=\"text-align: right;\">      0.129444</td><td style=\"text-align: right;\">    0.147778</td><td style=\"text-align: right;\">   0.11     </td><td style=\"text-align: right;\">     0.118005 </td><td style=\"text-align: right;\">      0.322618</td><td style=\"text-align: right;\">    0         </td><td style=\"text-align: right;\">     0        </td><td style=\"text-align: right;\">     0.0930439</td><td style=\"text-align: right;\">      0.290497</td></tr>\n",
       "<tr><td style=\"text-align: right;\">        6</td><td style=\"text-align: right;\">    0.133229</td><td style=\"text-align: right;\">  0.00666111</td><td style=\"text-align: right;\">      0.133214</td><td style=\"text-align: right;\">    0.1425  </td><td style=\"text-align: right;\">   0.0782143</td><td style=\"text-align: right;\">     0.0634094</td><td style=\"text-align: right;\">      0.2437  </td><td style=\"text-align: right;\">    0.00270121</td><td style=\"text-align: right;\">     0.0519034</td><td style=\"text-align: right;\">     0.0343073</td><td style=\"text-align: right;\">      0.182019</td></tr>\n",
       "<tr><td style=\"text-align: right;\">        7</td><td style=\"text-align: right;\">    0.134039</td><td style=\"text-align: right;\">  0.0108634 </td><td style=\"text-align: right;\">      0.132222</td><td style=\"text-align: right;\">    0.147778</td><td style=\"text-align: right;\">   0.0994444</td><td style=\"text-align: right;\">     0.172523 </td><td style=\"text-align: right;\">      0.377838</td><td style=\"text-align: right;\">    0         </td><td style=\"text-align: right;\">     0        </td><td style=\"text-align: right;\">     0.0548918</td><td style=\"text-align: right;\">      0.227771</td></tr>\n",
       "<tr><td style=\"text-align: right;\">        8</td><td style=\"text-align: right;\">    0.138098</td><td style=\"text-align: right;\">  0.00693279</td><td style=\"text-align: right;\">      0.1425  </td><td style=\"text-align: right;\">    0.1425  </td><td style=\"text-align: right;\">   0.0936905</td><td style=\"text-align: right;\">     0.0436729</td><td style=\"text-align: right;\">      0.204368</td><td style=\"text-align: right;\">    0         </td><td style=\"text-align: right;\">     0        </td><td style=\"text-align: right;\">     0.0111597</td><td style=\"text-align: right;\">      0.10505 </td></tr>\n",
       "<tr><td style=\"text-align: right;\">        9</td><td style=\"text-align: right;\">    0       </td><td style=\"text-align: right;\">  0         </td><td style=\"text-align: right;\">      0       </td><td style=\"text-align: right;\">    0       </td><td style=\"text-align: right;\">   0        </td><td style=\"text-align: right;\">     0        </td><td style=\"text-align: right;\">      0       </td><td style=\"text-align: right;\">    0         </td><td style=\"text-align: right;\">     0        </td><td style=\"text-align: right;\">     0        </td><td style=\"text-align: right;\">      0       </td></tr>\n",
       "</tbody>\n",
       "</table>"
      ],
      "text/plain": [
       "<IPython.core.display.HTML object>"
      ]
     },
     "metadata": {},
     "output_type": "display_data"
    }
   ],
   "source": [
    "header_stat = ['Product', 'Price Mean', 'Price S.D.', \n",
    "               'Price Median', 'Price Max.', 'Price Min.',\n",
    "               'Loyalty Mean', 'Loyalty S.D.',\n",
    "               'Display Mean', 'Display S.D.',\n",
    "               'Feature Mean', 'Feature S.D.']\n",
    "\n",
    "display(HTML(tabulate.tabulate(sum_stat, tablefmt='html', headers=header_stat)))"
   ]
  },
  {
   "cell_type": "markdown",
   "id": "varying-fluid",
   "metadata": {
    "kernel": "Python3"
   },
   "source": [
    "I have used the SOS-notebook feature in order to switch between Python and R as needed, due to the `bayesm` package not having a suitable Python equivalent. I do hope to have some of these estimation procedures coded up on my own by the summer!"
   ]
  },
  {
   "cell_type": "code",
   "execution_count": 42,
   "id": "finished-stewart",
   "metadata": {
    "kernel": "R"
   },
   "outputs": [],
   "source": [
    "base_seed       <-  1112L\n",
    "num_choices     <-  9L\n",
    "bayesm_R        <-  10000L # \n",
    "bayesm_keep     <-  5L\n",
    "bayesm_disp     <-  200L\n",
    "bayesm_burnin   <-  1000L / bayesm_keep # Use first 1000 draws as burn in"
   ]
  },
  {
   "cell_type": "code",
   "execution_count": 8,
   "id": "reverse-society",
   "metadata": {
    "kernel": "R"
   },
   "outputs": [],
   "source": [
    "#' Runs the bayesm::rmnlIndepMetrop algorithm for a given model specification\n",
    "#'\n",
    "#' @param Data - List containing features of the data: choice data, covariates used in MNL, \n",
    "#'               number of alternative-specific covariates and flag for inclusion of intercepts (list)\n",
    "#' @param Prior - Prior specification including prior precision matrix and prior mean (list)\n",
    "#' @param MCMCspec - Specification for MCMC algorithm: \n",
    "#'               number of MCMC draws, thinnng parameter, estimated time remaining (list)\n",
    "#' @return Res_MNLIndep - Model output from bayesm::rmnlIndepMetrop (list)\n",
    "\n",
    "estimate_MNL <- function(\n",
    "    Data = list(choice, covariate, num_altcovar, intercept = F, num_choices = num_choices),\n",
    "    Prior = list(), \n",
    "    MCMCspec = list(R, keep, nprint)) {\n",
    "    \n",
    "  # Using the Create X routine from bayesm\n",
    "  covar_MNL <- createX(p = Data$num_choices, na = Data$num_altcovar,\n",
    "                       nd = 0, Xa = Data$covariate, Xd = NULL, INT = Data$intercept)\n",
    "  # Estimate mnl\n",
    "  Res_MNLIndep <- rmnlIndepMetrop(Data = list(y = Data$choice,\n",
    "                                              X = covar_MNL,\n",
    "                                              p = Data$num_choices), \n",
    "                                  Prior = Prior,\n",
    "                                  Mcmc = MCMCspec)\n",
    "  # Return output\n",
    "  return(Res_MNLIndep)\n",
    "}"
   ]
  },
  {
   "cell_type": "code",
   "execution_count": 9,
   "id": "leading-submission",
   "metadata": {
    "kernel": "R"
   },
   "outputs": [],
   "source": [
    "#' Computes posterior log-likelihood for each specified with top and bottom 2.5% trimmed\n",
    "#'\n",
    "#' @param MCMC_LL Vector of log-likehoods (numeric)\n",
    "#' @return The posterior log-likelihood (numeric)\n",
    "\n",
    "logMargDenNRTrim <- function(MCMC_LL)\n",
    "{\n",
    "  quantiles  <- quantile(MCMC_LL, c(2.5,97.5)/100)\n",
    "  postLL     <- (logMargDenNR(MCMC_LL[which(MCMC_LL > quantiles[[1]] & MCMC_LL < quantiles[[2]])]))\n",
    "    \n",
    "  return(postLL)\n",
    "}"
   ]
  },
  {
   "cell_type": "code",
   "execution_count": 17,
   "id": "polar-gather",
   "metadata": {
    "kernel": "R"
   },
   "outputs": [],
   "source": [
    "#' Computes Posterior Mean, 95% CI and posterior LL for given MCMC Model and feature_names\n",
    "#'\n",
    "#' @param Res_MNLIndep Model output from bayesm::rmnlIndepMetrop (list)\n",
    "#' @param feature_names A vector of feature names (character)\n",
    "#' @return A data.table of the posterior mean and 95% CI (data.table)\n",
    "\n",
    "credInt_MCMC <- function(Res_MNLIndep, feature_names)\n",
    "{\n",
    "  beta_draw = Res_MNLIndep$betadraw \n",
    "  model_LL = as.matrix(Res_MNLIndep$loglike[-(1:(bayesm_burnin)), ])\n",
    "  out_DT <- data.table(do.call(rbind, list(Mean  =   apply(beta_draw, 2, mean),\n",
    "                                           Lower =   apply(beta_draw, 2, function(x) quantile(x, 0.025)),\n",
    "                                           Upper =   apply(beta_draw, 2, function(x) quantile(x, 0.975)),\n",
    "                                           PostAll = logMargDenNR(model_LL),\n",
    "                                           PosTrim = logMargDenNRTrim(Res_MNLIndep$loglike)\n",
    "                                          )))\n",
    "  setnames(out_DT, names(out_DT), feature_names)\n",
    "  out_DT[, Statistic := c(\"Mean\", \"Lower CI\", \"Upper CI\", \"Post. LL\",\"Post. LL (Trim)\" )]\n",
    "  setcolorder(out_DT, c(\"Statistic\", feature_names))\n",
    "  return(out_DT)\n",
    "}"
   ]
  },
  {
   "cell_type": "markdown",
   "id": "unknown-sullivan",
   "metadata": {
    "kernel": "R"
   },
   "source": [
    "### Specification 1: Price only"
   ]
  },
  {
   "cell_type": "code",
   "execution_count": null,
   "id": "thick-notebook",
   "metadata": {
    "kernel": "R",
    "scrolled": true
   },
   "outputs": [],
   "source": [
    "set.seed(base_seed)\n",
    "spec1 = paste0(\"Price_\", 1:9)\n",
    "\n",
    "out_spec1 <- estimate_MNL(Data = list(choice = data$Choice,\n",
    "                                      covariate = data[, spec1],\n",
    "                                      num_altcovar = 1, \n",
    "                                      intercept = F, \n",
    "                                      num_choices = num_choices),\n",
    "                          Prior = list(A = diag(2, 1), \n",
    "                                       betabar = rep(5, 1)), \n",
    "                          MCMCspec = list(R=bayesm_R, \n",
    "                                          keep=bayesm_keep, \n",
    "                                          nprint=10000))\n"
   ]
  },
  {
   "cell_type": "code",
   "execution_count": 149,
   "id": "complicated-spoke",
   "metadata": {
    "kernel": "R"
   },
   "outputs": [],
   "source": [
    "%put res_spec1 --to Python3\n",
    "\n",
    "res_spec1 <- credInt_MCMC(Res_MNLIndep=out_spec1, feature_names='Price')\n",
    "res_spec1 <- transpose(res_spec1, make.names = \"Statistic\", keep.names = 'Variable')\n",
    "res_spec1 <- res_spec1[, 'Model' := 'Specification 1']"
   ]
  },
  {
   "cell_type": "code",
   "execution_count": 150,
   "id": "reliable-pleasure",
   "metadata": {
    "kernel": "Python3"
   },
   "outputs": [
    {
     "data": {
      "text/html": [
       "<div>\n",
       "<style scoped>\n",
       "    .dataframe tbody tr th:only-of-type {\n",
       "        vertical-align: middle;\n",
       "    }\n",
       "\n",
       "    .dataframe tbody tr th {\n",
       "        vertical-align: top;\n",
       "    }\n",
       "\n",
       "    .dataframe thead th {\n",
       "        text-align: right;\n",
       "    }\n",
       "</style>\n",
       "<table border=\"1\" class=\"dataframe\">\n",
       "  <thead>\n",
       "    <tr style=\"text-align: right;\">\n",
       "      <th></th>\n",
       "      <th></th>\n",
       "      <th></th>\n",
       "      <th></th>\n",
       "      <th>Mean</th>\n",
       "      <th>Lower CI</th>\n",
       "      <th>Upper CI</th>\n",
       "      <th>CI</th>\n",
       "    </tr>\n",
       "    <tr>\n",
       "      <th>Model</th>\n",
       "      <th>Post. LL</th>\n",
       "      <th>Post. LL (Trim)</th>\n",
       "      <th>Variable</th>\n",
       "      <th></th>\n",
       "      <th></th>\n",
       "      <th></th>\n",
       "      <th></th>\n",
       "    </tr>\n",
       "  </thead>\n",
       "  <tbody>\n",
       "    <tr>\n",
       "      <th>Specification 1</th>\n",
       "      <th>-15978.917485</th>\n",
       "      <th>NaN</th>\n",
       "      <th>Price</th>\n",
       "      <td>-35.984471</td>\n",
       "      <td>-36.702241</td>\n",
       "      <td>-35.88744</td>\n",
       "      <td>[-36.70224,-35.88744]</td>\n",
       "    </tr>\n",
       "  </tbody>\n",
       "</table>\n",
       "</div>"
      ],
      "text/plain": [
       "                                                             Mean   Lower CI  \\\n",
       "Model           Post. LL      Post. LL (Trim) Variable                         \n",
       "Specification 1 -15978.917485 NaN             Price    -35.984471 -36.702241   \n",
       "\n",
       "                                                        Upper CI  \\\n",
       "Model           Post. LL      Post. LL (Trim) Variable             \n",
       "Specification 1 -15978.917485 NaN             Price    -35.88744   \n",
       "\n",
       "                                                                           CI  \n",
       "Model           Post. LL      Post. LL (Trim) Variable                         \n",
       "Specification 1 -15978.917485 NaN             Price     [-36.70224,-35.88744]  "
      ]
     },
     "execution_count": 150,
     "metadata": {},
     "output_type": "execute_result"
    }
   ],
   "source": [
    "res_spec1['Post. LL (Trim)'] = res_spec1['Post. LL (Trim)'].mean()\n",
    "\n",
    "res_spec1 = res_spec1.set_index(['Model', 'Post. LL', 'Post. LL (Trim)', 'Variable'])\n",
    "\n",
    "res_spec1['CI'] = '[' + res_spec1['Lower CI'].round(5).astype(str) + ',' + res_spec1['Upper CI'].round(5).astype(str) + ']'\n",
    "\n",
    "res_spec1"
   ]
  },
  {
   "cell_type": "markdown",
   "id": "engaging-turner",
   "metadata": {
    "kernel": "R"
   },
   "source": [
    "### Specification 2: Alternative-specifc Dummies + Price"
   ]
  },
  {
   "cell_type": "code",
   "execution_count": null,
   "id": "interracial-concord",
   "metadata": {
    "kernel": "R"
   },
   "outputs": [],
   "source": [
    "set.seed(base_seed + 1)\n",
    "\n",
    "out_spec2 <-   estimate_MNL(Data = list(choice = data$Choice,\n",
    "                                        covariate = data[, spec1],\n",
    "                                        num_altcovar = 1,\n",
    "                                        intercept = T,\n",
    "                                        num_choices = num_choices),\n",
    "                            Prior = list(A = diag(2, 9)), \n",
    "                            MCMCspec = list(R=bayesm_R, \n",
    "                                            keep=bayesm_keep, \n",
    "                                            nprint=10000))\n"
   ]
  },
  {
   "cell_type": "code",
   "execution_count": 152,
   "id": "mineral-barrel",
   "metadata": {
    "kernel": "R"
   },
   "outputs": [],
   "source": [
    "%put res_spec2 --to Python3\n",
    "\n",
    "res_spec2 <- credInt_MCMC(Res_MNLIndep=out_spec2, feature_names=c(paste0(\"Intercept_\", 1:8), \"Price\"))\n",
    "res_spec2 <- transpose(res_spec2, make.names = \"Statistic\", keep.names = 'Variable')\n",
    "res_spec2 <- res_spec2[, 'Model' := 'Specification 2']"
   ]
  },
  {
   "cell_type": "code",
   "execution_count": 153,
   "id": "running-creek",
   "metadata": {
    "kernel": "Python3"
   },
   "outputs": [],
   "source": [
    "res_spec2['Post. LL (Trim)'] = res_spec2['Post. LL (Trim)'].mean()\n",
    "\n",
    "res_spec2 = res_spec2.set_index(['Model', 'Post. LL', 'Post. LL (Trim)', 'Variable'])\n",
    "\n",
    "res_spec2['CI'] = '[' + res_spec2['Lower CI'].round(5).astype(str) + ',' + res_spec2['Upper CI'].round(5).astype(str) + ']'"
   ]
  },
  {
   "cell_type": "markdown",
   "id": "headed-pilot",
   "metadata": {
    "kernel": "R"
   },
   "source": [
    "#### Specification 3: Alternative Dummies + Price + Feature"
   ]
  },
  {
   "cell_type": "code",
   "execution_count": null,
   "id": "right-brighton",
   "metadata": {
    "kernel": "R"
   },
   "outputs": [],
   "source": [
    "set.seed(base_seed + 2)\n",
    "spec3 = c(spec1, paste0(\"Display_\", 1:9), paste0(\"Feature_\", 1:9))\n",
    "\n",
    "out_spec3 <-   estimate_MNL(Data = list(choice = data$Choice,\n",
    "                                        covariate = data[, spec3],\n",
    "                                        num_altcovar = 3,\n",
    "                                        intercept = T,\n",
    "                                        num_choices = num_choices),\n",
    "                            Prior = list(A = diag(2, 11)), \n",
    "                            MCMCspec = list(R=bayesm_R, \n",
    "                                            keep=bayesm_keep, \n",
    "                                            nprint=10000))"
   ]
  },
  {
   "cell_type": "code",
   "execution_count": 98,
   "id": "heated-memorabilia",
   "metadata": {
    "kernel": "R"
   },
   "outputs": [],
   "source": [
    "%put res_spec3 --to Python3\n",
    "\n",
    "res_spec3 <- credInt_MCMC(Res_MNLIndep=out_spec3, feature_names=c(paste0(\"Intercept_\", 1:8), \"Price\", \"Display\", \"Feature\"))\n",
    "res_spec3 <- transpose(res_spec3, make.names = \"Statistic\", keep.names = 'Variable')\n",
    "res_spec3 <- res_spec3[, 'Model' := 'Specification 3']"
   ]
  },
  {
   "cell_type": "code",
   "execution_count": 119,
   "id": "consistent-excellence",
   "metadata": {
    "kernel": "Python3"
   },
   "outputs": [],
   "source": [
    "res_spec3['Post. LL (Trim)'] = res_spec3['Post. LL (Trim)'].mean()\n",
    "\n",
    "res_spec3 = res_spec3.set_index(['Model', 'Post. LL', 'Post. LL (Trim)', 'Variable'])\n",
    "\n",
    "res_spec3['CI'] = '[' + res_spec3['Lower CI'].round(5).astype(str) + ',' + res_spec3['Upper CI'].round(5).astype(str) + ']'"
   ]
  },
  {
   "cell_type": "code",
   "execution_count": 165,
   "id": "incorporated-internet",
   "metadata": {
    "kernel": "Python3"
   },
   "outputs": [
    {
     "data": {
      "text/html": [
       "<div>\n",
       "<style scoped>\n",
       "    .dataframe tbody tr th:only-of-type {\n",
       "        vertical-align: middle;\n",
       "    }\n",
       "\n",
       "    .dataframe tbody tr th {\n",
       "        vertical-align: top;\n",
       "    }\n",
       "\n",
       "    .dataframe thead th {\n",
       "        text-align: right;\n",
       "    }\n",
       "</style>\n",
       "<table border=\"1\" class=\"dataframe\">\n",
       "  <thead>\n",
       "    <tr style=\"text-align: right;\">\n",
       "      <th></th>\n",
       "      <th></th>\n",
       "      <th></th>\n",
       "      <th></th>\n",
       "      <th>Mean</th>\n",
       "      <th>CI</th>\n",
       "    </tr>\n",
       "    <tr>\n",
       "      <th>Model</th>\n",
       "      <th>Post. LL</th>\n",
       "      <th>Post. LL (Trim)</th>\n",
       "      <th>Variable</th>\n",
       "      <th></th>\n",
       "      <th></th>\n",
       "    </tr>\n",
       "  </thead>\n",
       "  <tbody>\n",
       "    <tr>\n",
       "      <th>Specification 1</th>\n",
       "      <th>-15978.917485</th>\n",
       "      <th>NaN</th>\n",
       "      <th>Price</th>\n",
       "      <td>-35.984471</td>\n",
       "      <td>[-36.70224,-35.88744]</td>\n",
       "    </tr>\n",
       "    <tr>\n",
       "      <th rowspan=\"9\" valign=\"top\">Specification 2</th>\n",
       "      <th rowspan=\"9\" valign=\"top\">-15685.046601</th>\n",
       "      <th rowspan=\"9\" valign=\"top\">NaN</th>\n",
       "      <th>Intercept_1</th>\n",
       "      <td>-3.579385</td>\n",
       "      <td>[-3.72565,-2.94119]</td>\n",
       "    </tr>\n",
       "    <tr>\n",
       "      <th>Intercept_2</th>\n",
       "      <td>-2.996258</td>\n",
       "      <td>[-3.08382,-2.36913]</td>\n",
       "    </tr>\n",
       "    <tr>\n",
       "      <th>Intercept_3</th>\n",
       "      <td>-3.859382</td>\n",
       "      <td>[-4.02916,-3.04512]</td>\n",
       "    </tr>\n",
       "    <tr>\n",
       "      <th>Intercept_4</th>\n",
       "      <td>-3.084899</td>\n",
       "      <td>[-3.20231,-2.38534]</td>\n",
       "    </tr>\n",
       "    <tr>\n",
       "      <th>Intercept_5</th>\n",
       "      <td>-3.080683</td>\n",
       "      <td>[-3.20116,-2.2747]</td>\n",
       "    </tr>\n",
       "    <tr>\n",
       "      <th>Intercept_6</th>\n",
       "      <td>-3.877228</td>\n",
       "      <td>[-4.06839,-2.84632]</td>\n",
       "    </tr>\n",
       "    <tr>\n",
       "      <th>Intercept_7</th>\n",
       "      <td>-2.710048</td>\n",
       "      <td>[-2.8461,-1.89446]</td>\n",
       "    </tr>\n",
       "    <tr>\n",
       "      <th>Intercept_8</th>\n",
       "      <td>-4.540476</td>\n",
       "      <td>[-4.78455,-3.35454]</td>\n",
       "    </tr>\n",
       "    <tr>\n",
       "      <th>Price</th>\n",
       "      <td>-12.203709</td>\n",
       "      <td>[-18.52314,-11.2812]</td>\n",
       "    </tr>\n",
       "    <tr>\n",
       "      <th rowspan=\"11\" valign=\"top\">Specification 3</th>\n",
       "      <th rowspan=\"11\" valign=\"top\">-15705.489946</th>\n",
       "      <th rowspan=\"11\" valign=\"top\">-15676.141829</th>\n",
       "      <th>Intercept_1</th>\n",
       "      <td>-3.754029</td>\n",
       "      <td>[-4.39926,-2.76467]</td>\n",
       "    </tr>\n",
       "    <tr>\n",
       "      <th>Intercept_2</th>\n",
       "      <td>-3.271781</td>\n",
       "      <td>[-4.10796,-2.38768]</td>\n",
       "    </tr>\n",
       "    <tr>\n",
       "      <th>Intercept_3</th>\n",
       "      <td>-4.071600</td>\n",
       "      <td>[-4.98632,-3.25933]</td>\n",
       "    </tr>\n",
       "    <tr>\n",
       "      <th>Intercept_4</th>\n",
       "      <td>-3.278474</td>\n",
       "      <td>[-4.47025,-2.38039]</td>\n",
       "    </tr>\n",
       "    <tr>\n",
       "      <th>Intercept_5</th>\n",
       "      <td>-3.227127</td>\n",
       "      <td>[-4.01363,-2.5783]</td>\n",
       "    </tr>\n",
       "    <tr>\n",
       "      <th>Intercept_6</th>\n",
       "      <td>-3.942796</td>\n",
       "      <td>[-4.69489,-3.07658]</td>\n",
       "    </tr>\n",
       "    <tr>\n",
       "      <th>Intercept_7</th>\n",
       "      <td>-2.859389</td>\n",
       "      <td>[-3.70559,-2.0211]</td>\n",
       "    </tr>\n",
       "    <tr>\n",
       "      <th>Intercept_8</th>\n",
       "      <td>-4.246604</td>\n",
       "      <td>[-5.2695,-3.50388]</td>\n",
       "    </tr>\n",
       "    <tr>\n",
       "      <th>Price</th>\n",
       "      <td>-11.241628</td>\n",
       "      <td>[-17.92348,-5.93731]</td>\n",
       "    </tr>\n",
       "    <tr>\n",
       "      <th>Display</th>\n",
       "      <td>0.835841</td>\n",
       "      <td>[0.50266,1.41574]</td>\n",
       "    </tr>\n",
       "    <tr>\n",
       "      <th>Feature</th>\n",
       "      <td>0.381105</td>\n",
       "      <td>[0.34011,0.45812]</td>\n",
       "    </tr>\n",
       "  </tbody>\n",
       "</table>\n",
       "</div>"
      ],
      "text/plain": [
       "                                                                Mean  \\\n",
       "Model           Post. LL      Post. LL (Trim) Variable                 \n",
       "Specification 1 -15978.917485 NaN             Price       -35.984471   \n",
       "Specification 2 -15685.046601 NaN             Intercept_1  -3.579385   \n",
       "                                              Intercept_2  -2.996258   \n",
       "                                              Intercept_3  -3.859382   \n",
       "                                              Intercept_4  -3.084899   \n",
       "                                              Intercept_5  -3.080683   \n",
       "                                              Intercept_6  -3.877228   \n",
       "                                              Intercept_7  -2.710048   \n",
       "                                              Intercept_8  -4.540476   \n",
       "                                              Price       -12.203709   \n",
       "Specification 3 -15705.489946 -15676.141829   Intercept_1  -3.754029   \n",
       "                                              Intercept_2  -3.271781   \n",
       "                                              Intercept_3  -4.071600   \n",
       "                                              Intercept_4  -3.278474   \n",
       "                                              Intercept_5  -3.227127   \n",
       "                                              Intercept_6  -3.942796   \n",
       "                                              Intercept_7  -2.859389   \n",
       "                                              Intercept_8  -4.246604   \n",
       "                                              Price       -11.241628   \n",
       "                                              Display       0.835841   \n",
       "                                              Feature       0.381105   \n",
       "\n",
       "                                                                              CI  \n",
       "Model           Post. LL      Post. LL (Trim) Variable                            \n",
       "Specification 1 -15978.917485 NaN             Price        [-36.70224,-35.88744]  \n",
       "Specification 2 -15685.046601 NaN             Intercept_1    [-3.72565,-2.94119]  \n",
       "                                              Intercept_2    [-3.08382,-2.36913]  \n",
       "                                              Intercept_3    [-4.02916,-3.04512]  \n",
       "                                              Intercept_4    [-3.20231,-2.38534]  \n",
       "                                              Intercept_5     [-3.20116,-2.2747]  \n",
       "                                              Intercept_6    [-4.06839,-2.84632]  \n",
       "                                              Intercept_7     [-2.8461,-1.89446]  \n",
       "                                              Intercept_8    [-4.78455,-3.35454]  \n",
       "                                              Price         [-18.52314,-11.2812]  \n",
       "Specification 3 -15705.489946 -15676.141829   Intercept_1    [-4.39926,-2.76467]  \n",
       "                                              Intercept_2    [-4.10796,-2.38768]  \n",
       "                                              Intercept_3    [-4.98632,-3.25933]  \n",
       "                                              Intercept_4    [-4.47025,-2.38039]  \n",
       "                                              Intercept_5     [-4.01363,-2.5783]  \n",
       "                                              Intercept_6    [-4.69489,-3.07658]  \n",
       "                                              Intercept_7     [-3.70559,-2.0211]  \n",
       "                                              Intercept_8     [-5.2695,-3.50388]  \n",
       "                                              Price         [-17.92348,-5.93731]  \n",
       "                                              Display          [0.50266,1.41574]  \n",
       "                                              Feature          [0.34011,0.45812]  "
      ]
     },
     "execution_count": 165,
     "metadata": {},
     "output_type": "execute_result"
    }
   ],
   "source": [
    "results_part1 = pd.concat([res_spec1, res_spec2, res_spec3])\n",
    "results_part1 = results_part1.drop(['Lower CI', 'Upper CI'], axis=1)\n",
    "results_part1"
   ]
  },
  {
   "cell_type": "markdown",
   "id": "nominated-philosophy",
   "metadata": {
    "kernel": "Python3"
   },
   "source": [
    "## Part 2 - Heterogeneity in Preferences\n",
    "\n",
    "To control for between-household, persistent heterogeneity in tastes, we estimate the random coefficients multinomial conditional logit demand system using MCMC"
   ]
  },
  {
   "cell_type": "code",
   "execution_count": 99,
   "id": "received-venice",
   "metadata": {
    "kernel": "R"
   },
   "outputs": [],
   "source": [
    "#' Runs the bayesm::rhierMnlRwMixture algorithm for a given model specification.\n",
    "#'\n",
    "#' @param Data - List containing features of the data: choice data, covariates used in MNL, \n",
    "#'               number of alternative-specific covariates and flag for inclusion of intercepts (list)\n",
    "#' @param Prior - Prior specification including prior precision matrix and prior mean (list)\n",
    "#' @param MCMCspec - Specification for MCMC algorithm: \n",
    "#'               number of MCMC draws, thinnng parameter, estimated time remaining (list)\n",
    "#' @return Res_MNLIndep - Model output from bayesm::rmnlIndepMetrop (list)\n",
    "\n",
    "estimate_HetMNL <- function(    \n",
    "    Data = list(panelID, choice, covariate, num_altcovar, intercept = F, num_choices = num_choices),\n",
    "    Prior = list(ncomp = 1), \n",
    "    MCMCspec = list(R, keep, nprint)) {\n",
    "        \n",
    "    # Assemble the dataset.\n",
    "    uniqueID <- unique(Data$panelID)\n",
    "    numUniqueID <- length(uniqueID)\n",
    "        \n",
    "    # Parallel Setup\n",
    "    numCores <- detectCores() - 2\n",
    "    cl <- makeCluster(numCores)\n",
    "        \n",
    "    clusterEvalQ(cl, {\n",
    "        library(bayesm)\n",
    "        library(data.table)       \n",
    "        \n",
    "    })\n",
    "            \n",
    "    clusterExport(cl, \"Data\", envir=environment())\n",
    "        \n",
    "    lgtData <- parLapply(cl, uniqueID, function(panel_index) \n",
    "    {\n",
    "        indx_i <- which(Data$panelID == panel_index)\n",
    "               \n",
    "        y  <- as.matrix(Data$choice[indx_i])\n",
    "        \n",
    "        covar_MNL <- createX(p = Data$num_choices, \n",
    "                             na = Data$num_altcovar, nd = 0,\n",
    "                             Xa = Data$covariate[indx_i, ], Xd = NULL,\n",
    "                             INT = Data$intercept)\n",
    "        list(y = y,\n",
    "             X = covar_MNL)\n",
    "        \n",
    "    } )    \n",
    "    \n",
    "  return(lgtData)\n",
    "}"
   ]
  },
  {
   "cell_type": "code",
   "execution_count": 116,
   "id": "freelance-mystery",
   "metadata": {
    "kernel": "R"
   },
   "outputs": [
    {
     "data": {
      "text/html": [
       "<ol>\n",
       "\t<li><style>\n",
       ".list-inline {list-style: none; margin:0; padding: 0}\n",
       ".list-inline>li {display: inline-block}\n",
       ".list-inline>li:not(:last-child)::after {content: \"\\00b7\"; padding: 0 .5ex}\n",
       "</style>\n",
       "<ol class=list-inline><li>'data.table'</li><li>'bayesm'</li><li>'stats'</li><li>'graphics'</li><li>'grDevices'</li><li>'utils'</li><li>'datasets'</li><li>'methods'</li><li>'base'</li></ol>\n",
       "</li>\n",
       "\t<li><style>\n",
       ".list-inline {list-style: none; margin:0; padding: 0}\n",
       ".list-inline>li {display: inline-block}\n",
       ".list-inline>li:not(:last-child)::after {content: \"\\00b7\"; padding: 0 .5ex}\n",
       "</style>\n",
       "<ol class=list-inline><li>'data.table'</li><li>'bayesm'</li><li>'stats'</li><li>'graphics'</li><li>'grDevices'</li><li>'utils'</li><li>'datasets'</li><li>'methods'</li><li>'base'</li></ol>\n",
       "</li>\n",
       "\t<li><style>\n",
       ".list-inline {list-style: none; margin:0; padding: 0}\n",
       ".list-inline>li {display: inline-block}\n",
       ".list-inline>li:not(:last-child)::after {content: \"\\00b7\"; padding: 0 .5ex}\n",
       "</style>\n",
       "<ol class=list-inline><li>'data.table'</li><li>'bayesm'</li><li>'stats'</li><li>'graphics'</li><li>'grDevices'</li><li>'utils'</li><li>'datasets'</li><li>'methods'</li><li>'base'</li></ol>\n",
       "</li>\n",
       "\t<li><style>\n",
       ".list-inline {list-style: none; margin:0; padding: 0}\n",
       ".list-inline>li {display: inline-block}\n",
       ".list-inline>li:not(:last-child)::after {content: \"\\00b7\"; padding: 0 .5ex}\n",
       "</style>\n",
       "<ol class=list-inline><li>'data.table'</li><li>'bayesm'</li><li>'stats'</li><li>'graphics'</li><li>'grDevices'</li><li>'utils'</li><li>'datasets'</li><li>'methods'</li><li>'base'</li></ol>\n",
       "</li>\n",
       "\t<li><style>\n",
       ".list-inline {list-style: none; margin:0; padding: 0}\n",
       ".list-inline>li {display: inline-block}\n",
       ".list-inline>li:not(:last-child)::after {content: \"\\00b7\"; padding: 0 .5ex}\n",
       "</style>\n",
       "<ol class=list-inline><li>'data.table'</li><li>'bayesm'</li><li>'stats'</li><li>'graphics'</li><li>'grDevices'</li><li>'utils'</li><li>'datasets'</li><li>'methods'</li><li>'base'</li></ol>\n",
       "</li>\n",
       "\t<li><style>\n",
       ".list-inline {list-style: none; margin:0; padding: 0}\n",
       ".list-inline>li {display: inline-block}\n",
       ".list-inline>li:not(:last-child)::after {content: \"\\00b7\"; padding: 0 .5ex}\n",
       "</style>\n",
       "<ol class=list-inline><li>'data.table'</li><li>'bayesm'</li><li>'stats'</li><li>'graphics'</li><li>'grDevices'</li><li>'utils'</li><li>'datasets'</li><li>'methods'</li><li>'base'</li></ol>\n",
       "</li>\n",
       "</ol>\n"
      ],
      "text/latex": [
       "\\begin{enumerate}\n",
       "\\item \\begin{enumerate*}\n",
       "\\item 'data.table'\n",
       "\\item 'bayesm'\n",
       "\\item 'stats'\n",
       "\\item 'graphics'\n",
       "\\item 'grDevices'\n",
       "\\item 'utils'\n",
       "\\item 'datasets'\n",
       "\\item 'methods'\n",
       "\\item 'base'\n",
       "\\end{enumerate*}\n",
       "\n",
       "\\item \\begin{enumerate*}\n",
       "\\item 'data.table'\n",
       "\\item 'bayesm'\n",
       "\\item 'stats'\n",
       "\\item 'graphics'\n",
       "\\item 'grDevices'\n",
       "\\item 'utils'\n",
       "\\item 'datasets'\n",
       "\\item 'methods'\n",
       "\\item 'base'\n",
       "\\end{enumerate*}\n",
       "\n",
       "\\item \\begin{enumerate*}\n",
       "\\item 'data.table'\n",
       "\\item 'bayesm'\n",
       "\\item 'stats'\n",
       "\\item 'graphics'\n",
       "\\item 'grDevices'\n",
       "\\item 'utils'\n",
       "\\item 'datasets'\n",
       "\\item 'methods'\n",
       "\\item 'base'\n",
       "\\end{enumerate*}\n",
       "\n",
       "\\item \\begin{enumerate*}\n",
       "\\item 'data.table'\n",
       "\\item 'bayesm'\n",
       "\\item 'stats'\n",
       "\\item 'graphics'\n",
       "\\item 'grDevices'\n",
       "\\item 'utils'\n",
       "\\item 'datasets'\n",
       "\\item 'methods'\n",
       "\\item 'base'\n",
       "\\end{enumerate*}\n",
       "\n",
       "\\item \\begin{enumerate*}\n",
       "\\item 'data.table'\n",
       "\\item 'bayesm'\n",
       "\\item 'stats'\n",
       "\\item 'graphics'\n",
       "\\item 'grDevices'\n",
       "\\item 'utils'\n",
       "\\item 'datasets'\n",
       "\\item 'methods'\n",
       "\\item 'base'\n",
       "\\end{enumerate*}\n",
       "\n",
       "\\item \\begin{enumerate*}\n",
       "\\item 'data.table'\n",
       "\\item 'bayesm'\n",
       "\\item 'stats'\n",
       "\\item 'graphics'\n",
       "\\item 'grDevices'\n",
       "\\item 'utils'\n",
       "\\item 'datasets'\n",
       "\\item 'methods'\n",
       "\\item 'base'\n",
       "\\end{enumerate*}\n",
       "\n",
       "\\end{enumerate}\n"
      ],
      "text/markdown": [
       "1. 1. 'data.table'\n",
       "2. 'bayesm'\n",
       "3. 'stats'\n",
       "4. 'graphics'\n",
       "5. 'grDevices'\n",
       "6. 'utils'\n",
       "7. 'datasets'\n",
       "8. 'methods'\n",
       "9. 'base'\n",
       "\n",
       "\n",
       "\n",
       "2. 1. 'data.table'\n",
       "2. 'bayesm'\n",
       "3. 'stats'\n",
       "4. 'graphics'\n",
       "5. 'grDevices'\n",
       "6. 'utils'\n",
       "7. 'datasets'\n",
       "8. 'methods'\n",
       "9. 'base'\n",
       "\n",
       "\n",
       "\n",
       "3. 1. 'data.table'\n",
       "2. 'bayesm'\n",
       "3. 'stats'\n",
       "4. 'graphics'\n",
       "5. 'grDevices'\n",
       "6. 'utils'\n",
       "7. 'datasets'\n",
       "8. 'methods'\n",
       "9. 'base'\n",
       "\n",
       "\n",
       "\n",
       "4. 1. 'data.table'\n",
       "2. 'bayesm'\n",
       "3. 'stats'\n",
       "4. 'graphics'\n",
       "5. 'grDevices'\n",
       "6. 'utils'\n",
       "7. 'datasets'\n",
       "8. 'methods'\n",
       "9. 'base'\n",
       "\n",
       "\n",
       "\n",
       "5. 1. 'data.table'\n",
       "2. 'bayesm'\n",
       "3. 'stats'\n",
       "4. 'graphics'\n",
       "5. 'grDevices'\n",
       "6. 'utils'\n",
       "7. 'datasets'\n",
       "8. 'methods'\n",
       "9. 'base'\n",
       "\n",
       "\n",
       "\n",
       "6. 1. 'data.table'\n",
       "2. 'bayesm'\n",
       "3. 'stats'\n",
       "4. 'graphics'\n",
       "5. 'grDevices'\n",
       "6. 'utils'\n",
       "7. 'datasets'\n",
       "8. 'methods'\n",
       "9. 'base'\n",
       "\n",
       "\n",
       "\n",
       "\n",
       "\n"
      ],
      "text/plain": [
       "[[1]]\n",
       "[1] \"data.table\" \"bayesm\"     \"stats\"      \"graphics\"   \"grDevices\" \n",
       "[6] \"utils\"      \"datasets\"   \"methods\"    \"base\"      \n",
       "\n",
       "[[2]]\n",
       "[1] \"data.table\" \"bayesm\"     \"stats\"      \"graphics\"   \"grDevices\" \n",
       "[6] \"utils\"      \"datasets\"   \"methods\"    \"base\"      \n",
       "\n",
       "[[3]]\n",
       "[1] \"data.table\" \"bayesm\"     \"stats\"      \"graphics\"   \"grDevices\" \n",
       "[6] \"utils\"      \"datasets\"   \"methods\"    \"base\"      \n",
       "\n",
       "[[4]]\n",
       "[1] \"data.table\" \"bayesm\"     \"stats\"      \"graphics\"   \"grDevices\" \n",
       "[6] \"utils\"      \"datasets\"   \"methods\"    \"base\"      \n",
       "\n",
       "[[5]]\n",
       "[1] \"data.table\" \"bayesm\"     \"stats\"      \"graphics\"   \"grDevices\" \n",
       "[6] \"utils\"      \"datasets\"   \"methods\"    \"base\"      \n",
       "\n",
       "[[6]]\n",
       "[1] \"data.table\" \"bayesm\"     \"stats\"      \"graphics\"   \"grDevices\" \n",
       "[6] \"utils\"      \"datasets\"   \"methods\"    \"base\"      \n"
      ]
     },
     "metadata": {},
     "output_type": "display_data"
    }
   ],
   "source": [
    "spec1 = paste0(\"Price_\", 1:9)\n",
    "\n",
    "Data = list(panelID = data$PanelID, choice = data$Choice,\n",
    "                                      covariate = data[, spec1],\n",
    "                                      num_altcovar = 1, \n",
    "                                      intercept = F, \n",
    "                                      num_choices = num_choices)\n",
    "Prior = list(ncomp = 1)\n",
    "MCMCspec = list(R=bayesm_R, \n",
    "                keep=bayesm_keep, \n",
    "                nprint=10000)\n",
    "\n",
    "# Assemble the dataset.\n",
    "uniqueID <- unique(data$PanelID)\n",
    "numUniqueID <- length(uniqueID)\n",
    "                     \n",
    "# lgtdata <- replicate(numUniqueID, list(y = 0, X = 0), simplify = F)\n",
    "\n",
    "# Parallel Setup\n",
    "numCores <- detectCores() - 2\n",
    "cl <- makeCluster(numCores)\n",
    "\n",
    "clusterEvalQ(cl, {\n",
    "    library(bayesm)\n",
    "    library(data.table)       \n",
    "})\n",
    "\n",
    "clusterExport(cl, \"Data\")\n",
    "\n",
    "lgtData <- parLapply(cl, uniqueID, function(panel_index)\n",
    "{\n",
    "#   t1   <-   data[,\"PanelID\" == panel_index]\n",
    "#   y    <-   sapply(unique(t1$Date), function(date_value) unique(t1[\"Date\" == date_value, \"Choice\"]))\n",
    "#   x    <-   unname(as.matrix(t1[, names(data), with = FALSE]))\n",
    "#   list(y = y,\n",
    "#        X = x)\n",
    "    \n",
    "     print(panel_index)\n",
    "    \n",
    "     indx_i <- which(Data$panelID == panel_index)\n",
    "               \n",
    "        y  <- as.matrix(Data$choice[indx_i])\n",
    "        \n",
    "        covar_MNL <- createX(p = Data$num_choices, \n",
    "                             na = Data$num_altcovar, nd = 0,\n",
    "                             Xa = Data$covariate[indx_i, ], Xd = NULL,\n",
    "                             INT = Data$intercept)\n",
    "        list(indx_i = indx_i,\n",
    "            y = y,\n",
    "             X = covar_MNL)\n",
    "})\n",
    "\n",
    "# for (i in 1:numUniqueID) {\n",
    "# # Indices\n",
    "#     indx_i <- which(data$PanelID == uniqueID[i])\n",
    "#     # Assign outcomes for individual i\n",
    "#     lgtdata[[i]]$y <- as.matrix(data[indx_i, 'Choice'])}\n",
    "\n"
   ]
  },
  {
   "cell_type": "code",
   "execution_count": 100,
   "id": "later-fancy",
   "metadata": {
    "kernel": "R"
   },
   "outputs": [],
   "source": [
    "spec1 = paste0(\"Price_\", 1:9)\n",
    "\n",
    "out <- estimate_HetMNL(\n",
    "    Data = list(panelID = data$panelID, choice = data$Choice,\n",
    "                                      covariate = data[, spec1],\n",
    "                                      num_altcovar = 1, \n",
    "                                      intercept = F, \n",
    "                                      num_choices = num_choices),\n",
    "    Prior = list(ncomp = 1), \n",
    "    MCMCspec = list(R=bayesm_R, \n",
    "                                          keep=bayesm_keep, \n",
    "                                          nprint=10000))"
   ]
  },
  {
   "cell_type": "code",
   "execution_count": 106,
   "id": "private-appointment",
   "metadata": {
    "kernel": "R"
   },
   "outputs": [
    {
     "data": {
      "text/html": [
       "544"
      ],
      "text/latex": [
       "544"
      ],
      "text/markdown": [
       "544"
      ],
      "text/plain": [
       "[1] 544"
      ]
     },
     "metadata": {},
     "output_type": "display_data"
    }
   ],
   "source": [
    "numUniqueID"
   ]
  },
  {
   "cell_type": "code",
   "execution_count": 111,
   "id": "horizontal-payroll",
   "metadata": {
    "kernel": "R"
   },
   "outputs": [
    {
     "data": {
      "text/html": [],
      "text/latex": [],
      "text/markdown": [],
      "text/plain": [
       "integer(0)"
      ]
     },
     "metadata": {},
     "output_type": "display_data"
    }
   ],
   "source": [
    " which(Data$panelID == 8007925)"
   ]
  },
  {
   "cell_type": "code",
   "execution_count": 112,
   "id": "resident-franklin",
   "metadata": {
    "kernel": "R"
   },
   "outputs": [
    {
     "data": {
      "text/plain": [
       "NULL"
      ]
     },
     "metadata": {},
     "output_type": "display_data"
    }
   ],
   "source": [
    "Data$panelIDs"
   ]
  },
  {
   "cell_type": "code",
   "execution_count": null,
   "id": "specific-fleece",
   "metadata": {
    "kernel": "R",
    "scrolled": true
   },
   "outputs": [],
   "source": [
    "head(lgtData)"
   ]
  },
  {
   "cell_type": "code",
   "execution_count": null,
   "id": "quarterly-staff",
   "metadata": {
    "kernel": "R"
   },
   "outputs": [],
   "source": []
  }
 ],
 "metadata": {
  "kernelspec": {
   "display_name": "SoS",
   "language": "sos",
   "name": "sos"
  },
  "language_info": {
   "codemirror_mode": "sos",
   "file_extension": ".sos",
   "mimetype": "text/x-sos",
   "name": "sos",
   "nbconvert_exporter": "sos_notebook.converter.SoS_Exporter",
   "pygments_lexer": "sos"
  },
  "sos": {
   "kernels": [
    [
     "Python3",
     "python3",
     "Python3",
     "#FFD91A",
     {
      "name": "ipython",
      "version": 3
     }
    ],
    [
     "R",
     "ir",
     "R",
     "#DCDCDA",
     "r"
    ]
   ],
   "panel": {
    "displayed": false,
    "height": 0
   },
   "version": "0.22.3"
  }
 },
 "nbformat": 4,
 "nbformat_minor": 5
}
