{
 "cells": [
  {
   "cell_type": "code",
   "execution_count": 18,
   "id": "visible-involvement",
   "metadata": {
    "kernel": "R"
   },
   "outputs": [
    {
     "ename": "ERROR",
     "evalue": "Error in library(psych): there is no package called 'psych'\n",
     "output_type": "error",
     "traceback": [
      "Error in library(psych): there is no package called 'psych'\nTraceback:\n",
      "1. library(psych)"
     ]
    }
   ],
   "source": [
    "# Setting up bayesm package from R.\n",
    "\n",
    "library(data.table)\n",
    "library(psych)\n",
    "library(bayesm)\n",
    "library(parallel)\n",
    "library(ggplot2)\n",
    "library(MCMCpack)"
   ]
  },
  {
   "cell_type": "code",
   "execution_count": 11,
   "id": "acceptable-equivalent",
   "metadata": {
    "kernel": "R"
   },
   "outputs": [],
   "source": [
    "# Load data\n",
    "dat <- fread(\"Raw/pbout.txt\", header = FALSE)\n",
    "nobs <- length(dat$price)"
   ]
  },
  {
   "cell_type": "code",
   "execution_count": null,
   "id": "right-latin",
   "metadata": {
    "kernel": "R"
   },
   "outputs": [],
   "source": [
    "# Data descripitves\n",
    "mean_prices <- colMeans(dat[, 4:12])\n",
    "sd_prices <- apply(dat[, 4:12], 2, sd)\n",
    "table(dat[, c(\"prod\", \"feature\")]) / 50718     \n",
    "table(dat[, c(\"prod\", \"display\")]) / 50718     \n",
    "table(dat[, c(\"prod\", \"loyalty\")]) / 50718     \n",
    "table(dat[, c(\"choice\")])/ (9 * 50718)\n",
    "\n",
    "# Transform from long to wide\n",
    "dat <- pivot_wider(dat, c(1,2,3, 4), names_from = prod, \n",
    "                   values_from = c(\"price\", \"feature\", \"display\", \"loyalty\"))"
   ]
  },
  {
   "cell_type": "code",
   "execution_count": 14,
   "id": "committed-luxury",
   "metadata": {
    "kernel": "R"
   },
   "outputs": [],
   "source": [
    "dat[, alternative   :=   rep(1:9, nrow(dat)/9)]"
   ]
  },
  {
   "cell_type": "code",
   "execution_count": 12,
   "id": "confirmed-color",
   "metadata": {
    "kernel": "R"
   },
   "outputs": [
    {
     "data": {
      "text/html": [
       "FALSE"
      ],
      "text/latex": [
       "FALSE"
      ],
      "text/markdown": [
       "FALSE"
      ],
      "text/plain": [
       "[1] FALSE"
      ]
     },
     "metadata": {},
     "output_type": "display_data"
    }
   ],
   "source": [
    "FALSE %in% complete.cases(dat)"
   ]
  },
  {
   "cell_type": "code",
   "execution_count": 16,
   "id": "catholic-integration",
   "metadata": {
    "kernel": "R"
   },
   "outputs": [],
   "source": [
    "alternative_dummy   <-   data.table(model.matrix(~factor(dat$alternative) + 0))[,-9]\n",
    "setnames(alternative_dummy, names(alternative_dummy), paste0(\"alternative_dummy_\", 1:8))"
   ]
  },
  {
   "cell_type": "code",
   "execution_count": 19,
   "id": "material-welsh",
   "metadata": {
    "kernel": "R"
   },
   "outputs": [
    {
     "data": {
      "text/html": [
       "<table class=\"dataframe\">\n",
       "<caption>A data.table: 6 × 8</caption>\n",
       "<thead>\n",
       "\t<tr><th scope=col>alternative_dummy_1</th><th scope=col>alternative_dummy_2</th><th scope=col>alternative_dummy_3</th><th scope=col>alternative_dummy_4</th><th scope=col>alternative_dummy_5</th><th scope=col>alternative_dummy_6</th><th scope=col>alternative_dummy_7</th><th scope=col>alternative_dummy_8</th></tr>\n",
       "\t<tr><th scope=col>&lt;dbl&gt;</th><th scope=col>&lt;dbl&gt;</th><th scope=col>&lt;dbl&gt;</th><th scope=col>&lt;dbl&gt;</th><th scope=col>&lt;dbl&gt;</th><th scope=col>&lt;dbl&gt;</th><th scope=col>&lt;dbl&gt;</th><th scope=col>&lt;dbl&gt;</th></tr>\n",
       "</thead>\n",
       "<tbody>\n",
       "\t<tr><td>1</td><td>0</td><td>0</td><td>0</td><td>0</td><td>0</td><td>0</td><td>0</td></tr>\n",
       "\t<tr><td>0</td><td>1</td><td>0</td><td>0</td><td>0</td><td>0</td><td>0</td><td>0</td></tr>\n",
       "\t<tr><td>0</td><td>0</td><td>1</td><td>0</td><td>0</td><td>0</td><td>0</td><td>0</td></tr>\n",
       "\t<tr><td>0</td><td>0</td><td>0</td><td>1</td><td>0</td><td>0</td><td>0</td><td>0</td></tr>\n",
       "\t<tr><td>0</td><td>0</td><td>0</td><td>0</td><td>1</td><td>0</td><td>0</td><td>0</td></tr>\n",
       "\t<tr><td>0</td><td>0</td><td>0</td><td>0</td><td>0</td><td>1</td><td>0</td><td>0</td></tr>\n",
       "</tbody>\n",
       "</table>\n"
      ],
      "text/latex": [
       "A data.table: 6 × 8\n",
       "\\begin{tabular}{llllllll}\n",
       " alternative\\_dummy\\_1 & alternative\\_dummy\\_2 & alternative\\_dummy\\_3 & alternative\\_dummy\\_4 & alternative\\_dummy\\_5 & alternative\\_dummy\\_6 & alternative\\_dummy\\_7 & alternative\\_dummy\\_8\\\\\n",
       " <dbl> & <dbl> & <dbl> & <dbl> & <dbl> & <dbl> & <dbl> & <dbl>\\\\\n",
       "\\hline\n",
       "\t 1 & 0 & 0 & 0 & 0 & 0 & 0 & 0\\\\\n",
       "\t 0 & 1 & 0 & 0 & 0 & 0 & 0 & 0\\\\\n",
       "\t 0 & 0 & 1 & 0 & 0 & 0 & 0 & 0\\\\\n",
       "\t 0 & 0 & 0 & 1 & 0 & 0 & 0 & 0\\\\\n",
       "\t 0 & 0 & 0 & 0 & 1 & 0 & 0 & 0\\\\\n",
       "\t 0 & 0 & 0 & 0 & 0 & 1 & 0 & 0\\\\\n",
       "\\end{tabular}\n"
      ],
      "text/markdown": [
       "\n",
       "A data.table: 6 × 8\n",
       "\n",
       "| alternative_dummy_1 &lt;dbl&gt; | alternative_dummy_2 &lt;dbl&gt; | alternative_dummy_3 &lt;dbl&gt; | alternative_dummy_4 &lt;dbl&gt; | alternative_dummy_5 &lt;dbl&gt; | alternative_dummy_6 &lt;dbl&gt; | alternative_dummy_7 &lt;dbl&gt; | alternative_dummy_8 &lt;dbl&gt; |\n",
       "|---|---|---|---|---|---|---|---|\n",
       "| 1 | 0 | 0 | 0 | 0 | 0 | 0 | 0 |\n",
       "| 0 | 1 | 0 | 0 | 0 | 0 | 0 | 0 |\n",
       "| 0 | 0 | 1 | 0 | 0 | 0 | 0 | 0 |\n",
       "| 0 | 0 | 0 | 1 | 0 | 0 | 0 | 0 |\n",
       "| 0 | 0 | 0 | 0 | 1 | 0 | 0 | 0 |\n",
       "| 0 | 0 | 0 | 0 | 0 | 1 | 0 | 0 |\n",
       "\n"
      ],
      "text/plain": [
       "  alternative_dummy_1 alternative_dummy_2 alternative_dummy_3\n",
       "1 1                   0                   0                  \n",
       "2 0                   1                   0                  \n",
       "3 0                   0                   1                  \n",
       "4 0                   0                   0                  \n",
       "5 0                   0                   0                  \n",
       "6 0                   0                   0                  \n",
       "  alternative_dummy_4 alternative_dummy_5 alternative_dummy_6\n",
       "1 0                   0                   0                  \n",
       "2 0                   0                   0                  \n",
       "3 0                   0                   0                  \n",
       "4 1                   0                   0                  \n",
       "5 0                   1                   0                  \n",
       "6 0                   0                   1                  \n",
       "  alternative_dummy_7 alternative_dummy_8\n",
       "1 0                   0                  \n",
       "2 0                   0                  \n",
       "3 0                   0                  \n",
       "4 0                   0                  \n",
       "5 0                   0                  \n",
       "6 0                   0                  "
      ]
     },
     "metadata": {},
     "output_type": "display_data"
    }
   ],
   "source": [
    "head(alternative_dummy)"
   ]
  },
  {
   "cell_type": "code",
   "execution_count": null,
   "id": "rough-vulnerability",
   "metadata": {
    "kernel": "R"
   },
   "outputs": [],
   "source": []
  }
 ],
 "metadata": {
  "kernelspec": {
   "display_name": "SoS",
   "language": "sos",
   "name": "sos"
  },
  "language_info": {
   "codemirror_mode": "sos",
   "file_extension": ".sos",
   "mimetype": "text/x-sos",
   "name": "sos",
   "nbconvert_exporter": "sos_notebook.converter.SoS_Exporter",
   "pygments_lexer": "sos"
  },
  "sos": {
   "kernels": [
    [
     "R",
     "ir",
     "R",
     "#DCDCDA",
     "r"
    ]
   ],
   "panel": {
    "displayed": true,
    "height": 0
   },
   "version": "0.22.3"
  }
 },
 "nbformat": 4,
 "nbformat_minor": 5
}
