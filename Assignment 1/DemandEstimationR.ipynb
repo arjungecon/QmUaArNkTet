{
 "cells": [
  {
   "cell_type": "markdown",
   "metadata": {},
   "source": [
    "# Demand Estimation in R\n",
    "## Advanced Quantitative Marketing - Arjun Gopinath\n",
    "\n",
    "In this Jupyter notebook, I display all relevant results from Assignment 1."
   ]
  },
  {
   "cell_type": "code",
   "execution_count": 1,
   "metadata": {},
   "outputs": [],
   "source": [
    "library(bayesm)\n",
    "library(ggplot2)\n",
    "library(data.table)"
   ]
  },
  {
   "cell_type": "code",
   "execution_count": 6,
   "metadata": {},
   "outputs": [],
   "source": [
    "my_data <- read.delim(\"pbout.txt\",  sep=\"\", header=TRUE)"
   ]
  },
  {
   "cell_type": "code",
   "execution_count": 7,
   "metadata": {},
   "outputs": [
    {
     "data": {
      "text/html": [
       "<table class=\"dataframe\">\n",
       "<caption>A data.frame: 6 × 7</caption>\n",
       "<thead>\n",
       "\t<tr><th></th><th scope=col>panelid</th><th scope=col>date</th><th scope=col>choice</th><th scope=col>price</th><th scope=col>feature</th><th scope=col>display</th><th scope=col>loyalty</th></tr>\n",
       "\t<tr><th></th><th scope=col>&lt;dbl&gt;</th><th scope=col>&lt;dbl&gt;</th><th scope=col>&lt;dbl&gt;</th><th scope=col>&lt;dbl&gt;</th><th scope=col>&lt;dbl&gt;</th><th scope=col>&lt;dbl&gt;</th><th scope=col>&lt;dbl&gt;</th></tr>\n",
       "</thead>\n",
       "<tbody>\n",
       "\t<tr><th scope=row>1</th><td>8007925</td><td>12082</td><td>9</td><td>0.1411111</td><td>0</td><td>0</td><td>0</td></tr>\n",
       "\t<tr><th scope=row>2</th><td>8007925</td><td>12082</td><td>9</td><td>0.1377778</td><td>0</td><td>0</td><td>0</td></tr>\n",
       "\t<tr><th scope=row>3</th><td>8007925</td><td>12082</td><td>9</td><td>0.1353571</td><td>0</td><td>0</td><td>0</td></tr>\n",
       "\t<tr><th scope=row>4</th><td>8007925</td><td>12082</td><td>9</td><td>0.1468750</td><td>0</td><td>0</td><td>0</td></tr>\n",
       "\t<tr><th scope=row>5</th><td>8007925</td><td>12082</td><td>9</td><td>0.1327778</td><td>0</td><td>0</td><td>0</td></tr>\n",
       "\t<tr><th scope=row>6</th><td>8007925</td><td>12082</td><td>9</td><td>0.1332143</td><td>0</td><td>0</td><td>0</td></tr>\n",
       "</tbody>\n",
       "</table>\n"
      ],
      "text/latex": [
       "A data.frame: 6 × 7\n",
       "\\begin{tabular}{r|lllllll}\n",
       "  & panelid & date & choice & price & feature & display & loyalty\\\\\n",
       "  & <dbl> & <dbl> & <dbl> & <dbl> & <dbl> & <dbl> & <dbl>\\\\\n",
       "\\hline\n",
       "\t1 & 8007925 & 12082 & 9 & 0.1411111 & 0 & 0 & 0\\\\\n",
       "\t2 & 8007925 & 12082 & 9 & 0.1377778 & 0 & 0 & 0\\\\\n",
       "\t3 & 8007925 & 12082 & 9 & 0.1353571 & 0 & 0 & 0\\\\\n",
       "\t4 & 8007925 & 12082 & 9 & 0.1468750 & 0 & 0 & 0\\\\\n",
       "\t5 & 8007925 & 12082 & 9 & 0.1327778 & 0 & 0 & 0\\\\\n",
       "\t6 & 8007925 & 12082 & 9 & 0.1332143 & 0 & 0 & 0\\\\\n",
       "\\end{tabular}\n"
      ],
      "text/markdown": [
       "\n",
       "A data.frame: 6 × 7\n",
       "\n",
       "| <!--/--> | panelid &lt;dbl&gt; | date &lt;dbl&gt; | choice &lt;dbl&gt; | price &lt;dbl&gt; | feature &lt;dbl&gt; | display &lt;dbl&gt; | loyalty &lt;dbl&gt; |\n",
       "|---|---|---|---|---|---|---|---|\n",
       "| 1 | 8007925 | 12082 | 9 | 0.1411111 | 0 | 0 | 0 |\n",
       "| 2 | 8007925 | 12082 | 9 | 0.1377778 | 0 | 0 | 0 |\n",
       "| 3 | 8007925 | 12082 | 9 | 0.1353571 | 0 | 0 | 0 |\n",
       "| 4 | 8007925 | 12082 | 9 | 0.1468750 | 0 | 0 | 0 |\n",
       "| 5 | 8007925 | 12082 | 9 | 0.1327778 | 0 | 0 | 0 |\n",
       "| 6 | 8007925 | 12082 | 9 | 0.1332143 | 0 | 0 | 0 |\n",
       "\n"
      ],
      "text/plain": [
       "  panelid date  choice price     feature display loyalty\n",
       "1 8007925 12082 9      0.1411111 0       0       0      \n",
       "2 8007925 12082 9      0.1377778 0       0       0      \n",
       "3 8007925 12082 9      0.1353571 0       0       0      \n",
       "4 8007925 12082 9      0.1468750 0       0       0      \n",
       "5 8007925 12082 9      0.1327778 0       0       0      \n",
       "6 8007925 12082 9      0.1332143 0       0       0      "
      ]
     },
     "metadata": {},
     "output_type": "display_data"
    }
   ],
   "source": [
    "head(my_data)"
   ]
  },
  {
   "cell_type": "code",
   "execution_count": null,
   "metadata": {},
   "outputs": [],
   "source": []
  }
 ],
 "metadata": {
  "kernelspec": {
   "display_name": "R",
   "language": "R",
   "name": "ir"
  },
  "language_info": {
   "codemirror_mode": "r",
   "file_extension": ".r",
   "mimetype": "text/x-r-source",
   "name": "R",
   "pygments_lexer": "r",
   "version": "3.6.3"
  }
 },
 "nbformat": 4,
 "nbformat_minor": 4
}
